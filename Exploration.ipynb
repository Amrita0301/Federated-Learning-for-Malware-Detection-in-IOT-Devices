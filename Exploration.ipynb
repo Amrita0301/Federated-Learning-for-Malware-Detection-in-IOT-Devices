{
 "cells": [
  {
   "cell_type": "markdown",
   "metadata": {},
   "source": [
    "#### Imports"
   ]
  },
  {
   "cell_type": "code",
   "execution_count": 1,
   "metadata": {},
   "outputs": [],
   "source": [
    "import sys\n",
    "import pandas as pd\n",
    "import numpy as np\n",
    "import matplotlib.pyplot as plt\n",
    "from statsmodels.tsa import stattools\n",
    "from statsmodels.graphics import correlation\n",
    "from context_printer import ContextPrinter as Ctp\n",
    "from sklearn.decomposition import PCA"
   ]
  },
  {
   "cell_type": "markdown",
   "metadata": {},
   "source": [
    "#### Local Imports"
   ]
  },
  {
   "cell_type": "code",
   "execution_count": 2,
   "metadata": {},
   "outputs": [],
   "source": [
    "sys.path.insert(0,'src/')\n",
    "from data import read_all_data, all_devices\n",
    "from supervised_data import get_dataset"
   ]
  },
  {
   "cell_type": "markdown",
   "metadata": {},
   "source": [
    "### Counting the number of samples from each class for each device"
   ]
  },
  {
   "cell_type": "code",
   "execution_count": 3,
   "metadata": {},
   "outputs": [
    {
     "name": "stdout",
     "output_type": "stream",
     "text": [
      "\u001b[93m\u001b[1mReading data\u001b[0m\n",
      "\u001b[93m█ \u001b[0m[1/9] Data from Danmini_Doorbell\u001b[0m\n",
      "\u001b[93m█ \u001b[0m[2/9] Data from Ecobee_Thermostat\u001b[0m\n",
      "\u001b[93m█ \u001b[0m[3/9] Data from Ennio_Doorbell\u001b[0m\n",
      "\u001b[93m█ \u001b[0m[4/9] Data from Philips_B120N10_Baby_Monitor\u001b[0m\n",
      "\u001b[93m█ \u001b[0m[5/9] Data from Provision_PT_737E_Security_Camera\u001b[0m\n",
      "\u001b[93m█ \u001b[0m[6/9] Data from Provision_PT_838_Security_Camera\u001b[0m\n",
      "\u001b[93m█ \u001b[0m[7/9] Data from Samsung_SNH_1011_N_Webcam\u001b[0m\n",
      "\u001b[93m█ \u001b[0m[8/9] Data from SimpleHome_XCS7_1002_WHT_Security_Camera\u001b[0m\n",
      "\u001b[93m█ \u001b[0m[9/9] Data from SimpleHome_XCS7_1003_WHT_Security_Camera\u001b[0m\n"
     ]
    }
   ],
   "source": [
    "data = read_all_data()"
   ]
  },
  {
   "cell_type": "code",
   "execution_count": 16,
   "metadata": {},
   "outputs": [],
   "source": [
    "def number_str(number: int):\n",
    "    return  \"\\\\numprint\" + \"{\" + \"{}\".format(number) + \"}\""
   ]
  },
  {
   "cell_type": "code",
   "execution_count": 25,
   "metadata": {},
   "outputs": [],
   "source": [
    "def count_class_samples(device_id: int):\n",
    "    binary_dataset = get_dataset(data[device_id:device_id+1], multiclass=False)\n",
    "    binary_labels = binary_dataset[:][1].numpy()\n",
    "    features = binary_dataset[:][0].numpy()\n",
    "\n",
    "    unique, counts = np.unique(binary_labels, return_counts=True)\n",
    "    percentage_benign = counts[0] * 100 / (counts[0] + counts[1])\n",
    "    percentage_attack = counts[1] * 100 / (counts[0] + counts[1])\n",
    "    print(\"Number of benign instances: \" + number_str(counts[0]) + \" ({:.2f}\\\\%)\".format(percentage_benign))\n",
    "    print(\"Number of attack instances: \" + number_str(counts[1]) + \" ({:.2f}\\\\%)\".format(percentage_attack))\n",
    "    print(\"Total number of instances: \" + number_str(counts[0] + counts[1]))\n",
    "    return counts[0], counts[1]"
   ]
  },
  {
   "cell_type": "code",
   "execution_count": 28,
   "metadata": {},
   "outputs": [
    {
     "name": "stdout",
     "output_type": "stream",
     "text": [
      "Device 1: Danmini_Doorbell\n",
      "Number of benign instances: \\numprint{49548} (4.87\\%)\n",
      "Number of attack instances: \\numprint{968750} (95.13\\%)\n",
      "Total number of instances: \\numprint{1018298}\n",
      "\n",
      "Device 2: Ecobee_Thermostat\n",
      "Number of benign instances: \\numprint{13113} (1.57\\%)\n",
      "Number of attack instances: \\numprint{822763} (98.43\\%)\n",
      "Total number of instances: \\numprint{835876}\n",
      "\n",
      "Device 3: Ennio_Doorbell\n",
      "Number of benign instances: \\numprint{39100} (11.00\\%)\n",
      "Number of attack instances: \\numprint{316400} (89.00\\%)\n",
      "Total number of instances: \\numprint{355500}\n",
      "\n",
      "Device 4: Philips_B120N10_Baby_Monitor\n",
      "Number of benign instances: \\numprint{175240} (15.95\\%)\n",
      "Number of attack instances: \\numprint{923437} (84.05\\%)\n",
      "Total number of instances: \\numprint{1098677}\n",
      "\n",
      "Device 5: Provision_PT_737E_Security_Camera\n",
      "Number of benign instances: \\numprint{62154} (7.50\\%)\n",
      "Number of attack instances: \\numprint{766106} (92.50\\%)\n",
      "Total number of instances: \\numprint{828260}\n",
      "\n",
      "Device 6: Provision_PT_838_Security_Camera\n",
      "Number of benign instances: \\numprint{98514} (11.77\\%)\n",
      "Number of attack instances: \\numprint{738377} (88.23\\%)\n",
      "Total number of instances: \\numprint{836891}\n",
      "\n",
      "Device 7: Samsung_SNH_1011_N_Webcam\n",
      "Number of benign instances: \\numprint{52150} (13.90\\%)\n",
      "Number of attack instances: \\numprint{323072} (86.10\\%)\n",
      "Total number of instances: \\numprint{375222}\n",
      "\n",
      "Device 8: SimpleHome_XCS7_1002_WHT_Security_Camera\n",
      "Number of benign instances: \\numprint{46585} (5.40\\%)\n",
      "Number of attack instances: \\numprint{816471} (94.60\\%)\n",
      "Total number of instances: \\numprint{863056}\n",
      "\n",
      "Device 9: SimpleHome_XCS7_1003_WHT_Security_Camera\n",
      "Number of benign instances: \\numprint{19528} (2.30\\%)\n",
      "Number of attack instances: \\numprint{831298} (97.70\\%)\n",
      "Total number of instances: \\numprint{850826}\n",
      "\n",
      "Minimum number of benign samples: \\numprint{13113}\n",
      "Minimum number of attack samples: \\numprint{316400}\n",
      "Total number of benign samples: \\numprint{555932} (7.87\\%)\n",
      "Total number of attack samples: \\numprint{6506674} (92.13\\%)\n",
      "Total number of samples: \\numprint{7062606}\n"
     ]
    }
   ],
   "source": [
    "min_benign = 1e9\n",
    "min_attack = 1e9\n",
    "sum_benign = 0\n",
    "sum_attack = 0\n",
    "\n",
    "for device_id in range(9):\n",
    "    print('Device {}'.format(device_id + 1) + ': ' + all_devices[device_id])\n",
    "    benign, attack = count_class_samples(device_id)\n",
    "    min_benign = min(min_benign, benign)\n",
    "    min_attack = min(min_attack, attack)\n",
    "    sum_benign += benign\n",
    "    sum_attack += attack\n",
    "    print()\n",
    "    \n",
    "print(\"Minimum number of benign samples: \" + number_str(min_benign))\n",
    "print(\"Minimum number of attack samples: \" + number_str(min_attack))\n",
    "\n",
    "percentage_benign = 100 * sum_benign / (sum_benign + sum_attack)\n",
    "percentage_attack = 100 * sum_attack / (sum_benign + sum_attack)\n",
    "\n",
    "print(\"Total number of benign samples: \" + number_str(sum_benign) + \" ({:.2f}\\\\%)\".format(percentage_benign))\n",
    "print(\"Total number of attack samples: \" + number_str(sum_attack) + \" ({:.2f}\\\\%)\".format(percentage_attack))\n",
    "print(\"Total number of samples: \" + number_str(sum_benign + sum_attack))"
   ]
  },
  {
   "cell_type": "markdown",
   "metadata": {},
   "source": [
    "End."
   ]
  }
 ],
 "metadata": {
  "kernelspec": {
   "display_name": "Python 3",
   "language": "python",
   "name": "python3"
  },
  "language_info": {
   "codemirror_mode": {
    "name": "ipython",
    "version": 3
   },
   "file_extension": ".py",
   "mimetype": "text/x-python",
   "name": "python",
   "nbconvert_exporter": "python",
   "pygments_lexer": "ipython3",
   "version": "3.8.5"
  }
 },
 "nbformat": 4,
 "nbformat_minor": 4
}
