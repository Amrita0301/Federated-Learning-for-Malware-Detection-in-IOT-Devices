{
 "cells": [
  {
   "cell_type": "markdown",
   "metadata": {},
   "source": [
    "### Imports"
   ]
  },
  {
   "cell_type": "code",
   "execution_count": 1,
   "metadata": {},
   "outputs": [],
   "source": [
    "import sys\n",
    "import json\n",
    "import numpy as np\n",
    "from typing import Union"
   ]
  },
  {
   "cell_type": "markdown",
   "metadata": {},
   "source": [
    "### Local imports"
   ]
  },
  {
   "cell_type": "code",
   "execution_count": 2,
   "metadata": {},
   "outputs": [],
   "source": [
    "sys.path.insert(0,'src/')\n",
    "from src.metrics import BinaryClassificationResult\n",
    "from src.print_util import print_rates"
   ]
  },
  {
   "cell_type": "markdown",
   "metadata": {},
   "source": [
    "### Generic code"
   ]
  },
  {
   "cell_type": "code",
   "execution_count": 3,
   "metadata": {},
   "outputs": [],
   "source": [
    "# Get the value out of an experiment's result. If the experiment is unsupervised and the result is already\n",
    "# a float (loss function), we return it as it is. Otherwise we return the error rate.\n",
    "def get_value(result: Union[dict, float]):\n",
    "    if isinstance(result, dict):\n",
    "        result = BinaryClassificationResult(*result.values())\n",
    "        return (1 - result.acc())\n",
    "    elif isinstance(result, float):\n",
    "        return result\n",
    "    else:\n",
    "        raise ValueError('Wrong type for result')"
   ]
  },
  {
   "cell_type": "code",
   "execution_count": 4,
   "metadata": {},
   "outputs": [],
   "source": [
    "def get_configurations_best_hparams(all_results, verbose=False):\n",
    "    config_to_hparams = {}\n",
    "    for clients_devices, config_results in gs_local_results.items():\n",
    "        config_best_result = np.Infinity\n",
    "        config_best_hparams = {}\n",
    "        for hparams, config_exp_result in config_results.items():\n",
    "            result_float = get_value(config_exp_result)\n",
    "            if result_float < config_best_result:\n",
    "                config_best_hparams = hparams\n",
    "                config_best_result = result_float\n",
    "        config_to_hparams.update({clients_devices: config_best_hparams})\n",
    "        if verbose:\n",
    "            print(\"Best result for {} is {:.5f} with hparams: \".format(clients_devices, config_best_result))\n",
    "            print(config_best_hparams)\n",
    "            print()\n",
    "            \n",
    "    return config_to_hparams"
   ]
  },
  {
   "cell_type": "code",
   "execution_count": 5,
   "metadata": {},
   "outputs": [],
   "source": [
    "def print_hparams(clients_devices_to_hparams):\n",
    "    for clients_devices, hparams in clients_devices_to_hparams.items():\n",
    "        print(str(hparams) + ',')"
   ]
  },
  {
   "cell_type": "markdown",
   "metadata": {},
   "source": [
    "### Results"
   ]
  },
  {
   "cell_type": "code",
   "execution_count": 15,
   "metadata": {},
   "outputs": [
    {
     "name": "stdout",
     "output_type": "stream",
     "text": [
      "Best result for [[1], [2], [3], [4], [5], [6], [7], [8]] is 0.00147 with hparams: \n",
      "{'optimizer_params': {'lr': 0.5, 'weight_decay': 1e-05}, 'hidden_layers': [115, 58, 29]}\n",
      "\n",
      "Best result for [[0], [2], [3], [4], [5], [6], [7], [8]] is 0.00136 with hparams: \n",
      "{'optimizer_params': {'lr': 0.5, 'weight_decay': 1e-05}, 'hidden_layers': [115, 58, 29]}\n",
      "\n",
      "Best result for [[0], [1], [3], [4], [5], [6], [7], [8]] is 0.00118 with hparams: \n",
      "{'optimizer_params': {'lr': 0.5, 'weight_decay': 1e-05}, 'hidden_layers': [115, 58, 29]}\n",
      "\n",
      "Best result for [[0], [1], [2], [4], [5], [6], [7], [8]] is 0.00145 with hparams: \n",
      "{'optimizer_params': {'lr': 0.5, 'weight_decay': 1e-05}, 'hidden_layers': [115, 58, 29]}\n",
      "\n",
      "Best result for [[0], [1], [2], [3], [5], [6], [7], [8]] is 0.00125 with hparams: \n",
      "{'optimizer_params': {'lr': 0.5, 'weight_decay': 1e-05}, 'hidden_layers': [115, 58, 29]}\n",
      "\n",
      "Best result for [[0], [1], [2], [3], [4], [6], [7], [8]] is 0.00135 with hparams: \n",
      "{'optimizer_params': {'lr': 0.5, 'weight_decay': 1e-05}, 'hidden_layers': [115, 58, 29]}\n",
      "\n",
      "Best result for [[0], [1], [2], [3], [4], [5], [7], [8]] is 0.00145 with hparams: \n",
      "{'optimizer_params': {'lr': 0.5, 'weight_decay': 1e-05}, 'hidden_layers': [115, 58, 29]}\n",
      "\n",
      "Best result for [[0], [1], [2], [3], [4], [5], [6], [8]] is 0.00130 with hparams: \n",
      "{'optimizer_params': {'lr': 0.5, 'weight_decay': 1e-05}, 'hidden_layers': [115, 58, 29]}\n",
      "\n",
      "Best result for [[0], [1], [2], [3], [4], [5], [6], [7]] is 0.00138 with hparams: \n",
      "{'optimizer_params': {'lr': 0.5, 'weight_decay': 1e-05}, 'hidden_layers': [115, 58, 29]}\n",
      "\n",
      "{'optimizer_params': {'lr': 0.5, 'weight_decay': 1e-05}, 'hidden_layers': [115, 58, 29]},\n",
      "{'optimizer_params': {'lr': 0.5, 'weight_decay': 1e-05}, 'hidden_layers': [115, 58, 29]},\n",
      "{'optimizer_params': {'lr': 0.5, 'weight_decay': 1e-05}, 'hidden_layers': [115, 58, 29]},\n",
      "{'optimizer_params': {'lr': 0.5, 'weight_decay': 1e-05}, 'hidden_layers': [115, 58, 29]},\n",
      "{'optimizer_params': {'lr': 0.5, 'weight_decay': 1e-05}, 'hidden_layers': [115, 58, 29]},\n",
      "{'optimizer_params': {'lr': 0.5, 'weight_decay': 1e-05}, 'hidden_layers': [115, 58, 29]},\n",
      "{'optimizer_params': {'lr': 0.5, 'weight_decay': 1e-05}, 'hidden_layers': [115, 58, 29]},\n",
      "{'optimizer_params': {'lr': 0.5, 'weight_decay': 1e-05}, 'hidden_layers': [115, 58, 29]},\n",
      "{'optimizer_params': {'lr': 0.5, 'weight_decay': 1e-05}, 'hidden_layers': [115, 58, 29]},\n"
     ]
    }
   ],
   "source": [
    "path_gs = 'grid_search_results/decentralized_classifier/collaborative/0,95 5cv/'\n",
    "\n",
    "with open(path_gs + 'local_results.json') as json_file:\n",
    "    gs_local_results = json.load(json_file)\n",
    "    \n",
    "clients_devices_to_hparams = get_configurations_best_hparams(gs_local_results, True)\n",
    "print_hparams(clients_devices_to_hparams)"
   ]
  },
  {
   "cell_type": "markdown",
   "metadata": {},
   "source": [
    "End."
   ]
  }
 ],
 "metadata": {
  "kernelspec": {
   "display_name": "Python 3",
   "language": "python",
   "name": "python3"
  },
  "language_info": {
   "codemirror_mode": {
    "name": "ipython",
    "version": 3
   },
   "file_extension": ".py",
   "mimetype": "text/x-python",
   "name": "python",
   "nbconvert_exporter": "python",
   "pygments_lexer": "ipython3",
   "version": "3.8.5"
  }
 },
 "nbformat": 4,
 "nbformat_minor": 4
}
